{
 "cells": [
  {
   "cell_type": "code",
   "execution_count": 17,
   "id": "adf81d6a-a9b5-47a4-ad85-5ecee9a9c9c6",
   "metadata": {},
   "outputs": [],
   "source": [
    "import numpy as np\n",
    "from hmmlearn import hmm"
   ]
  },
  {
   "cell_type": "code",
   "execution_count": 18,
   "id": "c85673f3-ad61-4f54-9598-37b37f505f1e",
   "metadata": {},
   "outputs": [
    {
     "name": "stdout",
     "output_type": "stream",
     "text": [
      "Requirement already satisfied: hmmlearn in c:\\users\\samrutthi\\anaconda_envs\\myenv\\lib\\site-packages (0.3.3)\n",
      "Requirement already satisfied: numpy>=1.10 in c:\\users\\samrutthi\\appdata\\roaming\\python\\python312\\site-packages (from hmmlearn) (2.2.5)\n",
      "Requirement already satisfied: scikit-learn!=0.22.0,>=0.16 in c:\\users\\samrutthi\\appdata\\roaming\\python\\python312\\site-packages (from hmmlearn) (1.6.1)\n",
      "Requirement already satisfied: scipy>=0.19 in c:\\users\\samrutthi\\appdata\\roaming\\python\\python312\\site-packages (from hmmlearn) (1.15.2)\n",
      "Requirement already satisfied: joblib>=1.2.0 in c:\\users\\samrutthi\\appdata\\roaming\\python\\python312\\site-packages (from scikit-learn!=0.22.0,>=0.16->hmmlearn) (1.4.2)\n",
      "Requirement already satisfied: threadpoolctl>=3.1.0 in c:\\users\\samrutthi\\appdata\\roaming\\python\\python312\\site-packages (from scikit-learn!=0.22.0,>=0.16->hmmlearn) (3.6.0)\n",
      "Note: you may need to restart the kernel to use updated packages.\n"
     ]
    }
   ],
   "source": [
    "pip install hmmlearn\n"
   ]
  },
  {
   "cell_type": "code",
   "execution_count": 19,
   "id": "5c0d3169-db9e-4197-91c0-77a64b1c12bd",
   "metadata": {},
   "outputs": [],
   "source": [
    "import numpy as np\n",
    "from hmmlearn import hmm"
   ]
  },
  {
   "cell_type": "code",
   "execution_count": 20,
   "id": "b6991d37-1b04-497d-a778-ffbd310bb569",
   "metadata": {},
   "outputs": [],
   "source": [
    "states=[\"H\",\"L\"]\n",
    "observation=[\"A\",\"C\",\"G\",\"T\"]\n",
    "observation_map={\"A\":0,\"C\":1,\"G\":2,\"T\":3}"
   ]
  },
  {
   "cell_type": "code",
   "execution_count": 21,
   "id": "3f975225-8099-4092-9e11-b22ba8759895",
   "metadata": {},
   "outputs": [],
   "source": [
    "transition_prob=np.array([\n",
    "    [0.5,0.5],\n",
    "    [0.4,0.6]\n",
    "])\n"
   ]
  },
  {
   "cell_type": "code",
   "execution_count": 22,
   "id": "05fbc38b-6cee-47d9-9c03-6161a22dd9db",
   "metadata": {},
   "outputs": [],
   "source": [
    "emission_prob=np.array([\n",
    "    [0.2,0.3,0.3,0.2],\n",
    "    [0.3,0.2,0.2,0.3]\n",
    "])"
   ]
  },
  {
   "cell_type": "code",
   "execution_count": 23,
   "id": "f3ff81c0-19a5-4f24-b36b-9a2bad3416c8",
   "metadata": {},
   "outputs": [],
   "source": [
    "initial_prob=np.array([0.5,0.5])"
   ]
  },
  {
   "cell_type": "code",
   "execution_count": 24,
   "id": "6d17648d-a3dd-43e0-99c8-6df8d5fb5481",
   "metadata": {},
   "outputs": [
    {
     "name": "stderr",
     "output_type": "stream",
     "text": [
      "MultinomialHMM has undergone major changes. The previous version was implementing a CategoricalHMM (a special case of MultinomialHMM). This new implementation follows the standard definition for a Multinomial distribution (e.g. as in https://en.wikipedia.org/wiki/Multinomial_distribution). See these issues for details:\n",
      "https://github.com/hmmlearn/hmmlearn/issues/335\n",
      "https://github.com/hmmlearn/hmmlearn/issues/340\n"
     ]
    }
   ],
   "source": [
    "model=hmm.MultinomialHMM(n_components=2)\n",
    "model.startprob_=initial_prob\n",
    "model.transmat_=transition_prob\n",
    "model.emissionprob_=emission_prob\n",
    "model.n_trials=1"
   ]
  },
  {
   "cell_type": "code",
   "execution_count": 25,
   "id": "157bb5b0-f100-452b-a8bc-1771b5a3c20b",
   "metadata": {},
   "outputs": [],
   "source": [
    "observation_sequence=[\"G\",\"G\",\"C\",\"A\",\"C\",\"T\",\"G\",\"A\",\"A\"]\n",
    "obs_indices=np.eye(len(observation_map))[[observation_map[o] for o in observation_sequence]]"
   ]
  },
  {
   "cell_type": "code",
   "execution_count": 26,
   "id": "951ae5b0-17f8-4bb5-87a4-43e7c5bd05b9",
   "metadata": {},
   "outputs": [],
   "source": [
    "logprob,state_sequence=model.decode(obs_indices,algorithm=\"viterbi\")"
   ]
  },
  {
   "cell_type": "code",
   "execution_count": 27,
   "id": "85c808b4-4404-43b2-a546-da14e7773a67",
   "metadata": {},
   "outputs": [
    {
     "name": "stdout",
     "output_type": "stream",
     "text": [
      "['H', 'H', 'H', 'L', 'L', 'L', 'L', 'L', 'L']\n"
     ]
    }
   ],
   "source": [
    "print([states[s] for s in state_sequence])"
   ]
  },
  {
   "cell_type": "code",
   "execution_count": 28,
   "id": "295b58ce-65ca-4ef8-b1d2-22f5a230735f",
   "metadata": {},
   "outputs": [
    {
     "name": "stdout",
     "output_type": "stream",
     "text": [
      "-16.973402296219486\n"
     ]
    }
   ],
   "source": [
    "print(logprob)"
   ]
  },
  {
   "cell_type": "code",
   "execution_count": null,
   "id": "4ccc3c97-7889-4587-a601-a1a9712d163b",
   "metadata": {},
   "outputs": [],
   "source": []
  }
 ],
 "metadata": {
  "kernelspec": {
   "display_name": "Python 3 (ipykernel)",
   "language": "python",
   "name": "python3"
  },
  "language_info": {
   "codemirror_mode": {
    "name": "ipython",
    "version": 3
   },
   "file_extension": ".py",
   "mimetype": "text/x-python",
   "name": "python",
   "nbconvert_exporter": "python",
   "pygments_lexer": "ipython3",
   "version": "3.12.7"
  }
 },
 "nbformat": 4,
 "nbformat_minor": 5
}

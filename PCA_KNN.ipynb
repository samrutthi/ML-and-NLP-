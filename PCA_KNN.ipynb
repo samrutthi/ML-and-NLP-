{
  "cells": [
    {
      "cell_type": "markdown",
      "metadata": {
        "id": "view-in-github",
        "colab_type": "text"
      },
      "source": [
        "<a href=\"https://colab.research.google.com/github/samrutthi/ML-and-NLP-/blob/main/PCA_KNN.ipynb\" target=\"_parent\"><img src=\"https://colab.research.google.com/assets/colab-badge.svg\" alt=\"Open In Colab\"/></a>"
      ]
    },
    {
      "cell_type": "code",
      "execution_count": null,
      "id": "95c47db7",
      "metadata": {
        "id": "95c47db7",
        "outputId": "0a1fdd80-8ea7-4d8f-8d3d-31a57af4dd33"
      },
      "outputs": [
        {
          "name": "stderr",
          "output_type": "stream",
          "text": [
            "C:\\Users\\sastra\\anaconda3\\Lib\\site-packages\\pandas\\core\\arrays\\masked.py:60: UserWarning: Pandas requires version '1.3.6' or newer of 'bottleneck' (version '1.3.5' currently installed).\n",
            "  from pandas.core import (\n"
          ]
        },
        {
          "name": "stdout",
          "output_type": "stream",
          "text": [
            "   Person ID  Age  Gender Undergraduate Major  Undergraduate GPA  \\\n",
            "0          1   27    Male                Arts               3.18   \n",
            "1          2   24    Male                Arts               3.03   \n",
            "2          3   33  Female            Business               3.66   \n",
            "3          4   31    Male         Engineering               2.46   \n",
            "4          5   28  Female            Business               2.75   \n",
            "\n",
            "   Years of Work Experience Current Job Title  Annual Salary (Before MBA)  \\\n",
            "0                         8      Entrepreneur                       90624   \n",
            "1                         4           Analyst                       53576   \n",
            "2                         9          Engineer                       79796   \n",
            "3                         1           Manager                      105956   \n",
            "4                         9      Entrepreneur                       96132   \n",
            "\n",
            "  Has Management Experience  GRE/GMAT Score  Undergrad University Ranking  \\\n",
            "0                        No             688                           185   \n",
            "1                       Yes             791                           405   \n",
            "2                        No             430                           107   \n",
            "3                        No             356                           257   \n",
            "4                        No             472                           338   \n",
            "\n",
            "   Entrepreneurial Interest  Networking Importance MBA Funding Source  \\\n",
            "0                       7.9                    7.6               Loan   \n",
            "1                       3.8                    4.1               Loan   \n",
            "2                       6.7                    5.5        Scholarship   \n",
            "3                       1.0                    5.3               Loan   \n",
            "4                       9.5                    4.9               Loan   \n",
            "\n",
            "  Desired Post-MBA Role  Expected Post-MBA Salary  \\\n",
            "0       Finance Manager                    156165   \n",
            "1       Startup Founder                    165612   \n",
            "2            Consultant                    122248   \n",
            "3            Consultant                    123797   \n",
            "4            Consultant                    197509   \n",
            "\n",
            "  Location Preference (Post-MBA)     Reason for MBA Online vs. On-Campus MBA  \\\n",
            "0                  International   Entrepreneurship                On-Campus   \n",
            "1                  International      Career Growth                   Online   \n",
            "2                       Domestic  Skill Enhancement                   Online   \n",
            "3                  International   Entrepreneurship                On-Campus   \n",
            "4                       Domestic  Skill Enhancement                   Online   \n",
            "\n",
            "  Decided to Pursue MBA?  \n",
            "0                    Yes  \n",
            "1                     No  \n",
            "2                     No  \n",
            "3                     No  \n",
            "4                    Yes  \n"
          ]
        }
      ],
      "source": [
        "import pandas as pd\n",
        "dtst=\"mba_decision_dataset.csv\"\n",
        "data=pd.read_csv(dtst)\n",
        "print(data.head())"
      ]
    },
    {
      "cell_type": "code",
      "execution_count": null,
      "id": "9ee62bad",
      "metadata": {
        "id": "9ee62bad",
        "outputId": "9c9f651b-126e-4b02-f89d-cb77ca37a88c"
      },
      "outputs": [
        {
          "name": "stdout",
          "output_type": "stream",
          "text": [
            "Person ID                         0\n",
            "Age                               0\n",
            "Gender                            0\n",
            "Undergraduate Major               0\n",
            "Undergraduate GPA                 0\n",
            "Years of Work Experience          0\n",
            "Current Job Title                 0\n",
            "Annual Salary (Before MBA)        0\n",
            "Has Management Experience         0\n",
            "GRE/GMAT Score                    0\n",
            "Undergrad University Ranking      0\n",
            "Entrepreneurial Interest          0\n",
            "Networking Importance             0\n",
            "MBA Funding Source                0\n",
            "Desired Post-MBA Role             0\n",
            "Expected Post-MBA Salary          0\n",
            "Location Preference (Post-MBA)    0\n",
            "Reason for MBA                    0\n",
            "Online vs. On-Campus MBA          0\n",
            "Decided to Pursue MBA?            0\n",
            "dtype: int64\n"
          ]
        }
      ],
      "source": [
        "print(data.isnull().sum())"
      ]
    },
    {
      "cell_type": "code",
      "execution_count": null,
      "id": "f2efa678",
      "metadata": {
        "id": "f2efa678"
      },
      "outputs": [],
      "source": [
        "from sklearn.preprocessing import LabelEncoder"
      ]
    },
    {
      "cell_type": "code",
      "execution_count": null,
      "id": "fc18c849",
      "metadata": {
        "id": "fc18c849",
        "outputId": "004fedc3-4f9b-486b-ee01-c59c50d37053"
      },
      "outputs": [
        {
          "name": "stdout",
          "output_type": "stream",
          "text": [
            "Categorical columns: Index(['Gender', 'Undergraduate Major', 'Current Job Title',\n",
            "       'Has Management Experience', 'MBA Funding Source',\n",
            "       'Desired Post-MBA Role', 'Location Preference (Post-MBA)',\n",
            "       'Reason for MBA', 'Online vs. On-Campus MBA', 'Decided to Pursue MBA?'],\n",
            "      dtype='object')\n"
          ]
        }
      ],
      "source": [
        "# Check for categorical columns\n",
        "categorical_columns = data.select_dtypes(include=['object']).columns\n",
        "print(\"Categorical columns:\", categorical_columns)"
      ]
    },
    {
      "cell_type": "code",
      "execution_count": null,
      "id": "2df0bc4f",
      "metadata": {
        "id": "2df0bc4f",
        "outputId": "b0ea2271-0a4a-45b9-e312-cfc9f174ec81"
      },
      "outputs": [
        {
          "name": "stdout",
          "output_type": "stream",
          "text": [
            "   Person ID  Age  Gender  Undergraduate Major  Undergraduate GPA  \\\n",
            "0          1   27       1                    0               3.18   \n",
            "1          2   24       1                    0               3.03   \n",
            "2          3   33       0                    1               3.66   \n",
            "3          4   31       1                    3               2.46   \n",
            "4          5   28       0                    1               2.75   \n",
            "\n",
            "   Years of Work Experience  Current Job Title  Annual Salary (Before MBA)  \\\n",
            "0                         8                  3                       90624   \n",
            "1                         4                  0                       53576   \n",
            "2                         9                  2                       79796   \n",
            "3                         1                  4                      105956   \n",
            "4                         9                  3                       96132   \n",
            "\n",
            "   Has Management Experience  GRE/GMAT Score  Undergrad University Ranking  \\\n",
            "0                          0             688                           185   \n",
            "1                          1             791                           405   \n",
            "2                          0             430                           107   \n",
            "3                          0             356                           257   \n",
            "4                          0             472                           338   \n",
            "\n",
            "   Entrepreneurial Interest  Networking Importance  MBA Funding Source  \\\n",
            "0                       7.9                    7.6                   1   \n",
            "1                       3.8                    4.1                   1   \n",
            "2                       6.7                    5.5                   2   \n",
            "3                       1.0                    5.3                   1   \n",
            "4                       9.5                    4.9                   1   \n",
            "\n",
            "   Desired Post-MBA Role  Expected Post-MBA Salary  \\\n",
            "0                      2                    156165   \n",
            "1                      4                    165612   \n",
            "2                      0                    122248   \n",
            "3                      0                    123797   \n",
            "4                      0                    197509   \n",
            "\n",
            "   Location Preference (Post-MBA)  Reason for MBA  Online vs. On-Campus MBA  \\\n",
            "0                               1               1                         0   \n",
            "1                               1               0                         1   \n",
            "2                               0               3                         1   \n",
            "3                               1               1                         0   \n",
            "4                               0               3                         1   \n",
            "\n",
            "   Decided to Pursue MBA?  \n",
            "0                       1  \n",
            "1                       0  \n",
            "2                       0  \n",
            "3                       0  \n",
            "4                       1  \n"
          ]
        }
      ],
      "source": [
        "# Initialize LabelEncoder\n",
        "label_encoder = LabelEncoder()\n",
        "\n",
        "# Apply Label Encoding to each categorical column\n",
        "for col in categorical_columns:\n",
        "    data[col] = label_encoder.fit_transform(data[col])\n",
        "\n",
        "# Display the transformed dataset\n",
        "print(data.head())"
      ]
    },
    {
      "cell_type": "code",
      "execution_count": null,
      "id": "7acf8282",
      "metadata": {
        "id": "7acf8282",
        "outputId": "7221ed61-c0a1-4a54-e2ad-6e52ac42bb6b"
      },
      "outputs": [
        {
          "data": {
            "text/html": [
              "<div>\n",
              "<style scoped>\n",
              "    .dataframe tbody tr th:only-of-type {\n",
              "        vertical-align: middle;\n",
              "    }\n",
              "\n",
              "    .dataframe tbody tr th {\n",
              "        vertical-align: top;\n",
              "    }\n",
              "\n",
              "    .dataframe thead th {\n",
              "        text-align: right;\n",
              "    }\n",
              "</style>\n",
              "<table border=\"1\" class=\"dataframe\">\n",
              "  <thead>\n",
              "    <tr style=\"text-align: right;\">\n",
              "      <th></th>\n",
              "      <th>Person ID</th>\n",
              "      <th>Age</th>\n",
              "      <th>Gender</th>\n",
              "      <th>Undergraduate Major</th>\n",
              "      <th>Undergraduate GPA</th>\n",
              "      <th>Years of Work Experience</th>\n",
              "      <th>Current Job Title</th>\n",
              "      <th>Annual Salary (Before MBA)</th>\n",
              "      <th>Has Management Experience</th>\n",
              "      <th>GRE/GMAT Score</th>\n",
              "      <th>Undergrad University Ranking</th>\n",
              "      <th>Entrepreneurial Interest</th>\n",
              "      <th>Networking Importance</th>\n",
              "      <th>MBA Funding Source</th>\n",
              "      <th>Desired Post-MBA Role</th>\n",
              "      <th>Expected Post-MBA Salary</th>\n",
              "      <th>Location Preference (Post-MBA)</th>\n",
              "      <th>Reason for MBA</th>\n",
              "      <th>Online vs. On-Campus MBA</th>\n",
              "      <th>Decided to Pursue MBA?</th>\n",
              "    </tr>\n",
              "  </thead>\n",
              "  <tbody>\n",
              "    <tr>\n",
              "      <th>0</th>\n",
              "      <td>1</td>\n",
              "      <td>27</td>\n",
              "      <td>1</td>\n",
              "      <td>0</td>\n",
              "      <td>3.18</td>\n",
              "      <td>8</td>\n",
              "      <td>3</td>\n",
              "      <td>90624</td>\n",
              "      <td>0</td>\n",
              "      <td>688</td>\n",
              "      <td>185</td>\n",
              "      <td>7.9</td>\n",
              "      <td>7.6</td>\n",
              "      <td>1</td>\n",
              "      <td>2</td>\n",
              "      <td>156165</td>\n",
              "      <td>1</td>\n",
              "      <td>1</td>\n",
              "      <td>0</td>\n",
              "      <td>1</td>\n",
              "    </tr>\n",
              "    <tr>\n",
              "      <th>1</th>\n",
              "      <td>2</td>\n",
              "      <td>24</td>\n",
              "      <td>1</td>\n",
              "      <td>0</td>\n",
              "      <td>3.03</td>\n",
              "      <td>4</td>\n",
              "      <td>0</td>\n",
              "      <td>53576</td>\n",
              "      <td>1</td>\n",
              "      <td>791</td>\n",
              "      <td>405</td>\n",
              "      <td>3.8</td>\n",
              "      <td>4.1</td>\n",
              "      <td>1</td>\n",
              "      <td>4</td>\n",
              "      <td>165612</td>\n",
              "      <td>1</td>\n",
              "      <td>0</td>\n",
              "      <td>1</td>\n",
              "      <td>0</td>\n",
              "    </tr>\n",
              "    <tr>\n",
              "      <th>2</th>\n",
              "      <td>3</td>\n",
              "      <td>33</td>\n",
              "      <td>0</td>\n",
              "      <td>1</td>\n",
              "      <td>3.66</td>\n",
              "      <td>9</td>\n",
              "      <td>2</td>\n",
              "      <td>79796</td>\n",
              "      <td>0</td>\n",
              "      <td>430</td>\n",
              "      <td>107</td>\n",
              "      <td>6.7</td>\n",
              "      <td>5.5</td>\n",
              "      <td>2</td>\n",
              "      <td>0</td>\n",
              "      <td>122248</td>\n",
              "      <td>0</td>\n",
              "      <td>3</td>\n",
              "      <td>1</td>\n",
              "      <td>0</td>\n",
              "    </tr>\n",
              "    <tr>\n",
              "      <th>3</th>\n",
              "      <td>4</td>\n",
              "      <td>31</td>\n",
              "      <td>1</td>\n",
              "      <td>3</td>\n",
              "      <td>2.46</td>\n",
              "      <td>1</td>\n",
              "      <td>4</td>\n",
              "      <td>105956</td>\n",
              "      <td>0</td>\n",
              "      <td>356</td>\n",
              "      <td>257</td>\n",
              "      <td>1.0</td>\n",
              "      <td>5.3</td>\n",
              "      <td>1</td>\n",
              "      <td>0</td>\n",
              "      <td>123797</td>\n",
              "      <td>1</td>\n",
              "      <td>1</td>\n",
              "      <td>0</td>\n",
              "      <td>0</td>\n",
              "    </tr>\n",
              "    <tr>\n",
              "      <th>4</th>\n",
              "      <td>5</td>\n",
              "      <td>28</td>\n",
              "      <td>0</td>\n",
              "      <td>1</td>\n",
              "      <td>2.75</td>\n",
              "      <td>9</td>\n",
              "      <td>3</td>\n",
              "      <td>96132</td>\n",
              "      <td>0</td>\n",
              "      <td>472</td>\n",
              "      <td>338</td>\n",
              "      <td>9.5</td>\n",
              "      <td>4.9</td>\n",
              "      <td>1</td>\n",
              "      <td>0</td>\n",
              "      <td>197509</td>\n",
              "      <td>0</td>\n",
              "      <td>3</td>\n",
              "      <td>1</td>\n",
              "      <td>1</td>\n",
              "    </tr>\n",
              "    <tr>\n",
              "      <th>...</th>\n",
              "      <td>...</td>\n",
              "      <td>...</td>\n",
              "      <td>...</td>\n",
              "      <td>...</td>\n",
              "      <td>...</td>\n",
              "      <td>...</td>\n",
              "      <td>...</td>\n",
              "      <td>...</td>\n",
              "      <td>...</td>\n",
              "      <td>...</td>\n",
              "      <td>...</td>\n",
              "      <td>...</td>\n",
              "      <td>...</td>\n",
              "      <td>...</td>\n",
              "      <td>...</td>\n",
              "      <td>...</td>\n",
              "      <td>...</td>\n",
              "      <td>...</td>\n",
              "      <td>...</td>\n",
              "      <td>...</td>\n",
              "    </tr>\n",
              "    <tr>\n",
              "      <th>9995</th>\n",
              "      <td>9996</td>\n",
              "      <td>33</td>\n",
              "      <td>0</td>\n",
              "      <td>2</td>\n",
              "      <td>3.55</td>\n",
              "      <td>5</td>\n",
              "      <td>0</td>\n",
              "      <td>109172</td>\n",
              "      <td>1</td>\n",
              "      <td>524</td>\n",
              "      <td>100</td>\n",
              "      <td>9.2</td>\n",
              "      <td>8.0</td>\n",
              "      <td>1</td>\n",
              "      <td>4</td>\n",
              "      <td>69000</td>\n",
              "      <td>1</td>\n",
              "      <td>2</td>\n",
              "      <td>1</td>\n",
              "      <td>1</td>\n",
              "    </tr>\n",
              "    <tr>\n",
              "      <th>9996</th>\n",
              "      <td>9997</td>\n",
              "      <td>30</td>\n",
              "      <td>0</td>\n",
              "      <td>1</td>\n",
              "      <td>2.48</td>\n",
              "      <td>5</td>\n",
              "      <td>4</td>\n",
              "      <td>82515</td>\n",
              "      <td>1</td>\n",
              "      <td>330</td>\n",
              "      <td>362</td>\n",
              "      <td>7.4</td>\n",
              "      <td>8.5</td>\n",
              "      <td>2</td>\n",
              "      <td>0</td>\n",
              "      <td>131054</td>\n",
              "      <td>0</td>\n",
              "      <td>1</td>\n",
              "      <td>0</td>\n",
              "      <td>0</td>\n",
              "    </tr>\n",
              "    <tr>\n",
              "      <th>9997</th>\n",
              "      <td>9998</td>\n",
              "      <td>31</td>\n",
              "      <td>0</td>\n",
              "      <td>2</td>\n",
              "      <td>2.86</td>\n",
              "      <td>8</td>\n",
              "      <td>4</td>\n",
              "      <td>34152</td>\n",
              "      <td>1</td>\n",
              "      <td>681</td>\n",
              "      <td>308</td>\n",
              "      <td>6.8</td>\n",
              "      <td>8.8</td>\n",
              "      <td>1</td>\n",
              "      <td>0</td>\n",
              "      <td>100806</td>\n",
              "      <td>0</td>\n",
              "      <td>2</td>\n",
              "      <td>0</td>\n",
              "      <td>1</td>\n",
              "    </tr>\n",
              "    <tr>\n",
              "      <th>9998</th>\n",
              "      <td>9999</td>\n",
              "      <td>22</td>\n",
              "      <td>0</td>\n",
              "      <td>0</td>\n",
              "      <td>2.30</td>\n",
              "      <td>1</td>\n",
              "      <td>2</td>\n",
              "      <td>61897</td>\n",
              "      <td>0</td>\n",
              "      <td>481</td>\n",
              "      <td>190</td>\n",
              "      <td>5.7</td>\n",
              "      <td>7.7</td>\n",
              "      <td>3</td>\n",
              "      <td>3</td>\n",
              "      <td>115872</td>\n",
              "      <td>1</td>\n",
              "      <td>2</td>\n",
              "      <td>1</td>\n",
              "      <td>1</td>\n",
              "    </tr>\n",
              "    <tr>\n",
              "      <th>9999</th>\n",
              "      <td>10000</td>\n",
              "      <td>22</td>\n",
              "      <td>1</td>\n",
              "      <td>0</td>\n",
              "      <td>2.86</td>\n",
              "      <td>2</td>\n",
              "      <td>4</td>\n",
              "      <td>111499</td>\n",
              "      <td>0</td>\n",
              "      <td>710</td>\n",
              "      <td>226</td>\n",
              "      <td>8.0</td>\n",
              "      <td>1.7</td>\n",
              "      <td>0</td>\n",
              "      <td>3</td>\n",
              "      <td>103245</td>\n",
              "      <td>0</td>\n",
              "      <td>0</td>\n",
              "      <td>0</td>\n",
              "      <td>0</td>\n",
              "    </tr>\n",
              "  </tbody>\n",
              "</table>\n",
              "<p>10000 rows × 20 columns</p>\n",
              "</div>"
            ],
            "text/plain": [
              "      Person ID  Age  Gender  Undergraduate Major  Undergraduate GPA  \\\n",
              "0             1   27       1                    0               3.18   \n",
              "1             2   24       1                    0               3.03   \n",
              "2             3   33       0                    1               3.66   \n",
              "3             4   31       1                    3               2.46   \n",
              "4             5   28       0                    1               2.75   \n",
              "...         ...  ...     ...                  ...                ...   \n",
              "9995       9996   33       0                    2               3.55   \n",
              "9996       9997   30       0                    1               2.48   \n",
              "9997       9998   31       0                    2               2.86   \n",
              "9998       9999   22       0                    0               2.30   \n",
              "9999      10000   22       1                    0               2.86   \n",
              "\n",
              "      Years of Work Experience  Current Job Title  Annual Salary (Before MBA)  \\\n",
              "0                            8                  3                       90624   \n",
              "1                            4                  0                       53576   \n",
              "2                            9                  2                       79796   \n",
              "3                            1                  4                      105956   \n",
              "4                            9                  3                       96132   \n",
              "...                        ...                ...                         ...   \n",
              "9995                         5                  0                      109172   \n",
              "9996                         5                  4                       82515   \n",
              "9997                         8                  4                       34152   \n",
              "9998                         1                  2                       61897   \n",
              "9999                         2                  4                      111499   \n",
              "\n",
              "      Has Management Experience  GRE/GMAT Score  Undergrad University Ranking  \\\n",
              "0                             0             688                           185   \n",
              "1                             1             791                           405   \n",
              "2                             0             430                           107   \n",
              "3                             0             356                           257   \n",
              "4                             0             472                           338   \n",
              "...                         ...             ...                           ...   \n",
              "9995                          1             524                           100   \n",
              "9996                          1             330                           362   \n",
              "9997                          1             681                           308   \n",
              "9998                          0             481                           190   \n",
              "9999                          0             710                           226   \n",
              "\n",
              "      Entrepreneurial Interest  Networking Importance  MBA Funding Source  \\\n",
              "0                          7.9                    7.6                   1   \n",
              "1                          3.8                    4.1                   1   \n",
              "2                          6.7                    5.5                   2   \n",
              "3                          1.0                    5.3                   1   \n",
              "4                          9.5                    4.9                   1   \n",
              "...                        ...                    ...                 ...   \n",
              "9995                       9.2                    8.0                   1   \n",
              "9996                       7.4                    8.5                   2   \n",
              "9997                       6.8                    8.8                   1   \n",
              "9998                       5.7                    7.7                   3   \n",
              "9999                       8.0                    1.7                   0   \n",
              "\n",
              "      Desired Post-MBA Role  Expected Post-MBA Salary  \\\n",
              "0                         2                    156165   \n",
              "1                         4                    165612   \n",
              "2                         0                    122248   \n",
              "3                         0                    123797   \n",
              "4                         0                    197509   \n",
              "...                     ...                       ...   \n",
              "9995                      4                     69000   \n",
              "9996                      0                    131054   \n",
              "9997                      0                    100806   \n",
              "9998                      3                    115872   \n",
              "9999                      3                    103245   \n",
              "\n",
              "      Location Preference (Post-MBA)  Reason for MBA  \\\n",
              "0                                  1               1   \n",
              "1                                  1               0   \n",
              "2                                  0               3   \n",
              "3                                  1               1   \n",
              "4                                  0               3   \n",
              "...                              ...             ...   \n",
              "9995                               1               2   \n",
              "9996                               0               1   \n",
              "9997                               0               2   \n",
              "9998                               1               2   \n",
              "9999                               0               0   \n",
              "\n",
              "      Online vs. On-Campus MBA  Decided to Pursue MBA?  \n",
              "0                            0                       1  \n",
              "1                            1                       0  \n",
              "2                            1                       0  \n",
              "3                            0                       0  \n",
              "4                            1                       1  \n",
              "...                        ...                     ...  \n",
              "9995                         1                       1  \n",
              "9996                         0                       0  \n",
              "9997                         0                       1  \n",
              "9998                         1                       1  \n",
              "9999                         0                       0  \n",
              "\n",
              "[10000 rows x 20 columns]"
            ]
          },
          "execution_count": 7,
          "metadata": {},
          "output_type": "execute_result"
        }
      ],
      "source": [
        "data"
      ]
    },
    {
      "cell_type": "code",
      "execution_count": null,
      "id": "b790f40b",
      "metadata": {
        "id": "b790f40b",
        "outputId": "e9fe2e23-3c5e-4692-a745-12df948c4846"
      },
      "outputs": [
        {
          "data": {
            "text/plain": [
              "(10000, 20)"
            ]
          },
          "execution_count": 8,
          "metadata": {},
          "output_type": "execute_result"
        }
      ],
      "source": [
        "data.shape"
      ]
    },
    {
      "cell_type": "code",
      "execution_count": null,
      "id": "0d2f2b8c",
      "metadata": {
        "id": "0d2f2b8c",
        "outputId": "b450efb1-8ccd-4846-f34e-c3f61b4083ec"
      },
      "outputs": [
        {
          "name": "stdout",
          "output_type": "stream",
          "text": [
            "<class 'pandas.core.frame.DataFrame'>\n",
            "RangeIndex: 10000 entries, 0 to 9999\n",
            "Data columns (total 20 columns):\n",
            " #   Column                          Non-Null Count  Dtype  \n",
            "---  ------                          --------------  -----  \n",
            " 0   Person ID                       10000 non-null  int64  \n",
            " 1   Age                             10000 non-null  int64  \n",
            " 2   Gender                          10000 non-null  int32  \n",
            " 3   Undergraduate Major             10000 non-null  int32  \n",
            " 4   Undergraduate GPA               10000 non-null  float64\n",
            " 5   Years of Work Experience        10000 non-null  int64  \n",
            " 6   Current Job Title               10000 non-null  int32  \n",
            " 7   Annual Salary (Before MBA)      10000 non-null  int64  \n",
            " 8   Has Management Experience       10000 non-null  int32  \n",
            " 9   GRE/GMAT Score                  10000 non-null  int64  \n",
            " 10  Undergrad University Ranking    10000 non-null  int64  \n",
            " 11  Entrepreneurial Interest        10000 non-null  float64\n",
            " 12  Networking Importance           10000 non-null  float64\n",
            " 13  MBA Funding Source              10000 non-null  int32  \n",
            " 14  Desired Post-MBA Role           10000 non-null  int32  \n",
            " 15  Expected Post-MBA Salary        10000 non-null  int64  \n",
            " 16  Location Preference (Post-MBA)  10000 non-null  int32  \n",
            " 17  Reason for MBA                  10000 non-null  int32  \n",
            " 18  Online vs. On-Campus MBA        10000 non-null  int32  \n",
            " 19  Decided to Pursue MBA?          10000 non-null  int32  \n",
            "dtypes: float64(3), int32(10), int64(7)\n",
            "memory usage: 1.1 MB\n"
          ]
        }
      ],
      "source": [
        "data.info()"
      ]
    },
    {
      "cell_type": "code",
      "execution_count": null,
      "id": "fecc0992",
      "metadata": {
        "id": "fecc0992",
        "outputId": "94b8200d-eb50-46d9-a400-f497ab1e213b"
      },
      "outputs": [
        {
          "name": "stdout",
          "output_type": "stream",
          "text": [
            "Features shape: (10000, 19)\n",
            "Target shape: (10000,)\n"
          ]
        }
      ],
      "source": [
        "# Assuming the target column is named 'target'\n",
        "X = data.drop(columns=['Decided to Pursue MBA?'])  # Replace 'target' with the actual target column name\n",
        "y = data['Decided to Pursue MBA?']\n",
        "\n",
        "# Display the shapes of X and y\n",
        "print(\"Features shape:\", X.shape)\n",
        "print(\"Target shape:\", y.shape)"
      ]
    },
    {
      "cell_type": "code",
      "execution_count": null,
      "id": "2829977e",
      "metadata": {
        "id": "2829977e",
        "outputId": "6df785fa-09d2-4f8b-e04f-6b099d021597"
      },
      "outputs": [
        {
          "name": "stdout",
          "output_type": "stream",
          "text": [
            "      Person ID  Age  Gender  Undergraduate Major  Undergraduate GPA  \\\n",
            "0             1   27       1                    0               3.18   \n",
            "1             2   24       1                    0               3.03   \n",
            "2             3   33       0                    1               3.66   \n",
            "3             4   31       1                    3               2.46   \n",
            "4             5   28       0                    1               2.75   \n",
            "...         ...  ...     ...                  ...                ...   \n",
            "9995       9996   33       0                    2               3.55   \n",
            "9996       9997   30       0                    1               2.48   \n",
            "9997       9998   31       0                    2               2.86   \n",
            "9998       9999   22       0                    0               2.30   \n",
            "9999      10000   22       1                    0               2.86   \n",
            "\n",
            "      Years of Work Experience  Current Job Title  Annual Salary (Before MBA)  \\\n",
            "0                            8                  3                       90624   \n",
            "1                            4                  0                       53576   \n",
            "2                            9                  2                       79796   \n",
            "3                            1                  4                      105956   \n",
            "4                            9                  3                       96132   \n",
            "...                        ...                ...                         ...   \n",
            "9995                         5                  0                      109172   \n",
            "9996                         5                  4                       82515   \n",
            "9997                         8                  4                       34152   \n",
            "9998                         1                  2                       61897   \n",
            "9999                         2                  4                      111499   \n",
            "\n",
            "      Has Management Experience  GRE/GMAT Score  Undergrad University Ranking  \\\n",
            "0                             0             688                           185   \n",
            "1                             1             791                           405   \n",
            "2                             0             430                           107   \n",
            "3                             0             356                           257   \n",
            "4                             0             472                           338   \n",
            "...                         ...             ...                           ...   \n",
            "9995                          1             524                           100   \n",
            "9996                          1             330                           362   \n",
            "9997                          1             681                           308   \n",
            "9998                          0             481                           190   \n",
            "9999                          0             710                           226   \n",
            "\n",
            "      Entrepreneurial Interest  Networking Importance  MBA Funding Source  \\\n",
            "0                          7.9                    7.6                   1   \n",
            "1                          3.8                    4.1                   1   \n",
            "2                          6.7                    5.5                   2   \n",
            "3                          1.0                    5.3                   1   \n",
            "4                          9.5                    4.9                   1   \n",
            "...                        ...                    ...                 ...   \n",
            "9995                       9.2                    8.0                   1   \n",
            "9996                       7.4                    8.5                   2   \n",
            "9997                       6.8                    8.8                   1   \n",
            "9998                       5.7                    7.7                   3   \n",
            "9999                       8.0                    1.7                   0   \n",
            "\n",
            "      Desired Post-MBA Role  Expected Post-MBA Salary  \\\n",
            "0                         2                    156165   \n",
            "1                         4                    165612   \n",
            "2                         0                    122248   \n",
            "3                         0                    123797   \n",
            "4                         0                    197509   \n",
            "...                     ...                       ...   \n",
            "9995                      4                     69000   \n",
            "9996                      0                    131054   \n",
            "9997                      0                    100806   \n",
            "9998                      3                    115872   \n",
            "9999                      3                    103245   \n",
            "\n",
            "      Location Preference (Post-MBA)  Reason for MBA  Online vs. On-Campus MBA  \n",
            "0                                  1               1                         0  \n",
            "1                                  1               0                         1  \n",
            "2                                  0               3                         1  \n",
            "3                                  1               1                         0  \n",
            "4                                  0               3                         1  \n",
            "...                              ...             ...                       ...  \n",
            "9995                               1               2                         1  \n",
            "9996                               0               1                         0  \n",
            "9997                               0               2                         0  \n",
            "9998                               1               2                         1  \n",
            "9999                               0               0                         0  \n",
            "\n",
            "[10000 rows x 19 columns]\n"
          ]
        }
      ],
      "source": [
        "print(X)"
      ]
    },
    {
      "cell_type": "code",
      "execution_count": null,
      "id": "b93d24ba",
      "metadata": {
        "id": "b93d24ba",
        "outputId": "85b71309-bd95-4776-ec59-21d7c9e09c00"
      },
      "outputs": [
        {
          "name": "stdout",
          "output_type": "stream",
          "text": [
            "0       1\n",
            "1       0\n",
            "2       0\n",
            "3       0\n",
            "4       1\n",
            "       ..\n",
            "9995    1\n",
            "9996    0\n",
            "9997    1\n",
            "9998    1\n",
            "9999    0\n",
            "Name: Decided to Pursue MBA?, Length: 10000, dtype: int32\n"
          ]
        }
      ],
      "source": [
        "print(y)"
      ]
    },
    {
      "cell_type": "code",
      "execution_count": null,
      "id": "b8d73172",
      "metadata": {
        "id": "b8d73172"
      },
      "outputs": [],
      "source": [
        "from sklearn.preprocessing import StandardScaler\n",
        "\n",
        "# Standardize the features\n",
        "scaler = StandardScaler()\n",
        "X_standardized = scaler.fit_transform(X)"
      ]
    },
    {
      "cell_type": "code",
      "execution_count": null,
      "id": "f535e977",
      "metadata": {
        "id": "f535e977",
        "outputId": "8c19063d-0370-41e8-c8c3-b8e0193f659d"
      },
      "outputs": [
        {
          "name": "stdout",
          "output_type": "stream",
          "text": [
            "Explained variance ratio: [0.05648036 0.05578316]\n"
          ]
        }
      ],
      "source": [
        "from sklearn.decomposition import PCA\n",
        "\n",
        "# Apply PCA\n",
        "pca = PCA(n_components=2)  # Reduce to 2 dimensions for visualization\n",
        "X_pca = pca.fit_transform(X_standardized)\n",
        "\n",
        "# Explained variance ratio\n",
        "print(\"Explained variance ratio:\", pca.explained_variance_ratio_)"
      ]
    },
    {
      "cell_type": "code",
      "execution_count": null,
      "id": "6fa82154",
      "metadata": {
        "id": "6fa82154",
        "outputId": "0f5c5865-81d3-432f-b890-2ae4665d4f5a"
      },
      "outputs": [
        {
          "name": "stdout",
          "output_type": "stream",
          "text": [
            "Explained variance ratio: [0.05648036 0.05578316 0.05532108 0.05495725 0.05447124]\n"
          ]
        }
      ],
      "source": [
        "from sklearn.decomposition import PCA\n",
        "\n",
        "# Apply PCA\n",
        "pca = PCA(n_components=5)  # Reduce to 2 dimensions for visualization\n",
        "X_pca = pca.fit_transform(X_standardized)\n",
        "\n",
        "# Explained variance ratio\n",
        "print(\"Explained variance ratio:\", pca.explained_variance_ratio_)"
      ]
    },
    {
      "cell_type": "code",
      "execution_count": null,
      "id": "0a2cb4ba",
      "metadata": {
        "id": "0a2cb4ba",
        "outputId": "fbb17f5a-5a44-4465-ff0f-cdac95f5fa6f"
      },
      "outputs": [
        {
          "name": "stdout",
          "output_type": "stream",
          "text": [
            "Explained variance ratio: [0.05648036 0.05578316 0.05532108 0.05495725 0.05447124 0.05406385\n",
            " 0.05386423 0.05343949 0.05297648 0.05273747 0.05223995 0.05208369\n",
            " 0.05153323 0.05108769 0.05054033 0.05036832 0.05014963 0.04928313\n",
            " 0.04861942]\n"
          ]
        }
      ],
      "source": [
        "from sklearn.decomposition import PCA\n",
        "\n",
        "# Apply PCA\n",
        "pca = PCA(n_components=19)  # Reduce to 2 dimensions for visualization\n",
        "X_pca = pca.fit_transform(X_standardized)\n",
        "\n",
        "# Explained variance ratio\n",
        "print(\"Explained variance ratio:\", pca.explained_variance_ratio_)"
      ]
    },
    {
      "cell_type": "code",
      "execution_count": null,
      "id": "0797faaf",
      "metadata": {
        "id": "0797faaf",
        "outputId": "c43ee39a-3b9d-48fc-e6e4-a42a8cda5d70"
      },
      "outputs": [
        {
          "name": "stdout",
          "output_type": "stream",
          "text": [
            "Explained variance ratio: [0.05648036 0.05578316]\n"
          ]
        }
      ],
      "source": [
        "from sklearn.decomposition import PCA\n",
        "\n",
        "# Apply PCA\n",
        "pca = PCA(n_components=2)  # Reduce to 2 dimensions for visualization\n",
        "X_pca = pca.fit_transform(X_standardized)\n",
        "\n",
        "# Explained variance ratio\n",
        "print(\"Explained variance ratio:\", pca.explained_variance_ratio_)"
      ]
    },
    {
      "cell_type": "code",
      "execution_count": null,
      "id": "6da3b3e9",
      "metadata": {
        "id": "6da3b3e9"
      },
      "outputs": [],
      "source": [
        "from sklearn.model_selection import train_test_split\n",
        "\n",
        "# Split into train and test sets\n",
        "X_train, X_test, y_train, y_test = train_test_split(X_pca, y, test_size=0.2, random_state=42)"
      ]
    },
    {
      "cell_type": "code",
      "execution_count": null,
      "id": "630f32f3",
      "metadata": {
        "id": "630f32f3",
        "outputId": "8a60a3c8-fb77-4216-9966-6a98af4995ad"
      },
      "outputs": [
        {
          "name": "stdout",
          "output_type": "stream",
          "text": [
            "Accuracy after PCA + KNN: 0.5395\n"
          ]
        }
      ],
      "source": [
        "from sklearn.neighbors import KNeighborsClassifier\n",
        "from sklearn.metrics import accuracy_score\n",
        "\n",
        "# Train KNN\n",
        "knn = KNeighborsClassifier(n_neighbors=3)\n",
        "knn.fit(X_train, y_train)\n",
        "\n",
        "# Predict on test data\n",
        "y_pred = knn.predict(X_test)\n",
        "\n",
        "# Evaluate accuracy\n",
        "accuracy = accuracy_score(y_test, y_pred)\n",
        "print(\"Accuracy after PCA + KNN:\", accuracy)"
      ]
    },
    {
      "cell_type": "code",
      "execution_count": null,
      "id": "d4b32105",
      "metadata": {
        "id": "d4b32105"
      },
      "outputs": [],
      "source": [
        "from sklearn.model_selection import train_test_split\n",
        "\n",
        "# Split into train and test sets\n",
        "X_train, X_test, y_train, y_test = train_test_split(X, y, test_size=0.2, random_state=42)"
      ]
    },
    {
      "cell_type": "code",
      "execution_count": null,
      "id": "f7d32240",
      "metadata": {
        "id": "f7d32240",
        "outputId": "9c083705-dc0a-4e06-e288-82e88595a202"
      },
      "outputs": [
        {
          "name": "stdout",
          "output_type": "stream",
          "text": [
            "      Person ID  Age  Gender  Undergraduate Major  Undergraduate GPA  \\\n",
            "0             1   27       1                    0               3.18   \n",
            "1             2   24       1                    0               3.03   \n",
            "2             3   33       0                    1               3.66   \n",
            "3             4   31       1                    3               2.46   \n",
            "4             5   28       0                    1               2.75   \n",
            "...         ...  ...     ...                  ...                ...   \n",
            "9995       9996   33       0                    2               3.55   \n",
            "9996       9997   30       0                    1               2.48   \n",
            "9997       9998   31       0                    2               2.86   \n",
            "9998       9999   22       0                    0               2.30   \n",
            "9999      10000   22       1                    0               2.86   \n",
            "\n",
            "      Years of Work Experience  Current Job Title  Annual Salary (Before MBA)  \\\n",
            "0                            8                  3                       90624   \n",
            "1                            4                  0                       53576   \n",
            "2                            9                  2                       79796   \n",
            "3                            1                  4                      105956   \n",
            "4                            9                  3                       96132   \n",
            "...                        ...                ...                         ...   \n",
            "9995                         5                  0                      109172   \n",
            "9996                         5                  4                       82515   \n",
            "9997                         8                  4                       34152   \n",
            "9998                         1                  2                       61897   \n",
            "9999                         2                  4                      111499   \n",
            "\n",
            "      Has Management Experience  GRE/GMAT Score  Undergrad University Ranking  \\\n",
            "0                             0             688                           185   \n",
            "1                             1             791                           405   \n",
            "2                             0             430                           107   \n",
            "3                             0             356                           257   \n",
            "4                             0             472                           338   \n",
            "...                         ...             ...                           ...   \n",
            "9995                          1             524                           100   \n",
            "9996                          1             330                           362   \n",
            "9997                          1             681                           308   \n",
            "9998                          0             481                           190   \n",
            "9999                          0             710                           226   \n",
            "\n",
            "      Entrepreneurial Interest  Networking Importance  MBA Funding Source  \\\n",
            "0                          7.9                    7.6                   1   \n",
            "1                          3.8                    4.1                   1   \n",
            "2                          6.7                    5.5                   2   \n",
            "3                          1.0                    5.3                   1   \n",
            "4                          9.5                    4.9                   1   \n",
            "...                        ...                    ...                 ...   \n",
            "9995                       9.2                    8.0                   1   \n",
            "9996                       7.4                    8.5                   2   \n",
            "9997                       6.8                    8.8                   1   \n",
            "9998                       5.7                    7.7                   3   \n",
            "9999                       8.0                    1.7                   0   \n",
            "\n",
            "      Desired Post-MBA Role  Expected Post-MBA Salary  \\\n",
            "0                         2                    156165   \n",
            "1                         4                    165612   \n",
            "2                         0                    122248   \n",
            "3                         0                    123797   \n",
            "4                         0                    197509   \n",
            "...                     ...                       ...   \n",
            "9995                      4                     69000   \n",
            "9996                      0                    131054   \n",
            "9997                      0                    100806   \n",
            "9998                      3                    115872   \n",
            "9999                      3                    103245   \n",
            "\n",
            "      Location Preference (Post-MBA)  Reason for MBA  Online vs. On-Campus MBA  \n",
            "0                                  1               1                         0  \n",
            "1                                  1               0                         1  \n",
            "2                                  0               3                         1  \n",
            "3                                  1               1                         0  \n",
            "4                                  0               3                         1  \n",
            "...                              ...             ...                       ...  \n",
            "9995                               1               2                         1  \n",
            "9996                               0               1                         0  \n",
            "9997                               0               2                         0  \n",
            "9998                               1               2                         1  \n",
            "9999                               0               0                         0  \n",
            "\n",
            "[10000 rows x 19 columns]\n"
          ]
        }
      ],
      "source": [
        "print(X)"
      ]
    },
    {
      "cell_type": "code",
      "execution_count": null,
      "id": "cdda2286",
      "metadata": {
        "id": "cdda2286",
        "outputId": "e3a7d170-2106-4ce0-9c82-acd2a9b743fe"
      },
      "outputs": [
        {
          "name": "stdout",
          "output_type": "stream",
          "text": [
            "0       1\n",
            "1       0\n",
            "2       0\n",
            "3       0\n",
            "4       1\n",
            "       ..\n",
            "9995    1\n",
            "9996    0\n",
            "9997    1\n",
            "9998    1\n",
            "9999    0\n",
            "Name: Decided to Pursue MBA?, Length: 10000, dtype: int32\n"
          ]
        }
      ],
      "source": [
        "print(y)"
      ]
    },
    {
      "cell_type": "code",
      "execution_count": null,
      "id": "369e5745",
      "metadata": {
        "id": "369e5745",
        "outputId": "5e3696a6-3228-4c32-d8d7-79d782138ba2"
      },
      "outputs": [
        {
          "name": "stdout",
          "output_type": "stream",
          "text": [
            "Accuracy after PCA + KNN: 0.5105\n"
          ]
        }
      ],
      "source": [
        "from sklearn.neighbors import KNeighborsClassifier\n",
        "from sklearn.metrics import accuracy_score\n",
        "\n",
        "# Train KNN\n",
        "knn = KNeighborsClassifier(n_neighbors=3)\n",
        "knn.fit(X_train, y_train)\n",
        "\n",
        "# Predict on test data\n",
        "y_pred = knn.predict(X_test)\n",
        "\n",
        "# Evaluate accuracy\n",
        "accuracy = accuracy_score(y_test, y_pred)\n",
        "print(\"Accuracy after PCA + KNN:\", accuracy)"
      ]
    },
    {
      "cell_type": "code",
      "execution_count": null,
      "id": "00b967ed",
      "metadata": {
        "id": "00b967ed"
      },
      "outputs": [],
      "source": []
    }
  ],
  "metadata": {
    "kernelspec": {
      "display_name": "Python 3 (ipykernel)",
      "language": "python",
      "name": "python3"
    },
    "language_info": {
      "codemirror_mode": {
        "name": "ipython",
        "version": 3
      },
      "file_extension": ".py",
      "mimetype": "text/x-python",
      "name": "python",
      "nbconvert_exporter": "python",
      "pygments_lexer": "ipython3",
      "version": "3.11.4"
    },
    "colab": {
      "provenance": [],
      "include_colab_link": true
    }
  },
  "nbformat": 4,
  "nbformat_minor": 5
}
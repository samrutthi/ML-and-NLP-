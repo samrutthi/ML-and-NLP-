{
 "cells": [
  {
   "cell_type": "code",
   "execution_count": 3,
   "id": "86d7e1f0-cd9b-4141-b331-60d134860dc9",
   "metadata": {},
   "outputs": [],
   "source": [
    "import numpy as np\n",
    "import pandas as pd\n",
    "import math\n",
    "from collections import Counter"
   ]
  },
  {
   "cell_type": "code",
   "execution_count": 4,
   "id": "434dd7a5-0964-4d66-9aab-051426cfba80",
   "metadata": {},
   "outputs": [
    {
     "data": {
      "text/plain": [
       "[\"Corpus: “India is a diverse land of cultures languages and traditions It is known for its rich history and heritage The country has a vast landscape with mountains rivers and deserts The people of India are friendly and hospitable Indian cuisine is famous for its spices and flavors The country has a thriving film industry known as Bollywood India's festivals like Diwali and Holi are celebrated with enthusiasm India's contribution to science technology and literature is significant Overall India is a nation of beauty and diversity.”\"]"
      ]
     },
     "execution_count": 4,
     "metadata": {},
     "output_type": "execute_result"
    }
   ],
   "source": [
    "with open(\"india.txt\",\"r\",encoding=\"utf-8\") as file:\n",
    "    data=file.readlines()\n",
    "data"
   ]
  },
  {
   "cell_type": "code",
   "execution_count": 5,
   "id": "5264b00f-d02d-459a-a68b-e061ee2bf728",
   "metadata": {},
   "outputs": [],
   "source": [
    "import nltk\n",
    "from nltk.tokenize import word_tokenize\n"
   ]
  },
  {
   "cell_type": "code",
   "execution_count": 8,
   "id": "82daf446-c0b3-45c5-aac7-dabf56f3a4b2",
   "metadata": {},
   "outputs": [
    {
     "data": {
      "text/plain": [
       "['Corpus',\n",
       " ':',\n",
       " '“',\n",
       " 'India',\n",
       " 'is',\n",
       " 'a',\n",
       " 'diverse',\n",
       " 'land',\n",
       " 'of',\n",
       " 'cultures',\n",
       " 'languages',\n",
       " 'and',\n",
       " 'traditions',\n",
       " 'It',\n",
       " 'is',\n",
       " 'known',\n",
       " 'for',\n",
       " 'its',\n",
       " 'rich',\n",
       " 'history',\n",
       " 'and',\n",
       " 'heritage',\n",
       " 'The',\n",
       " 'country',\n",
       " 'has',\n",
       " 'a',\n",
       " 'vast',\n",
       " 'landscape',\n",
       " 'with',\n",
       " 'mountains',\n",
       " 'rivers',\n",
       " 'and',\n",
       " 'deserts',\n",
       " 'The',\n",
       " 'people',\n",
       " 'of',\n",
       " 'India',\n",
       " 'are',\n",
       " 'friendly',\n",
       " 'and',\n",
       " 'hospitable',\n",
       " 'Indian',\n",
       " 'cuisine',\n",
       " 'is',\n",
       " 'famous',\n",
       " 'for',\n",
       " 'its',\n",
       " 'spices',\n",
       " 'and',\n",
       " 'flavors',\n",
       " 'The',\n",
       " 'country',\n",
       " 'has',\n",
       " 'a',\n",
       " 'thriving',\n",
       " 'film',\n",
       " 'industry',\n",
       " 'known',\n",
       " 'as',\n",
       " 'Bollywood',\n",
       " 'India',\n",
       " \"'s\",\n",
       " 'festivals',\n",
       " 'like',\n",
       " 'Diwali',\n",
       " 'and',\n",
       " 'Holi',\n",
       " 'are',\n",
       " 'celebrated',\n",
       " 'with',\n",
       " 'enthusiasm',\n",
       " 'India',\n",
       " \"'s\",\n",
       " 'contribution',\n",
       " 'to',\n",
       " 'science',\n",
       " 'technology',\n",
       " 'and',\n",
       " 'literature',\n",
       " 'is',\n",
       " 'significant',\n",
       " 'Overall',\n",
       " 'India',\n",
       " 'is',\n",
       " 'a',\n",
       " 'nation',\n",
       " 'of',\n",
       " 'beauty',\n",
       " 'and',\n",
       " 'diversity',\n",
       " '.',\n",
       " '”']"
      ]
     },
     "execution_count": 8,
     "metadata": {},
     "output_type": "execute_result"
    }
   ],
   "source": [
    "dt=(\" \".join(data))\n",
    "tokens=word_tokenize(dt)\n",
    "tokens"
   ]
  },
  {
   "cell_type": "code",
   "execution_count": 37,
   "id": "14126b86-cb49-4184-909f-95a9deb5b958",
   "metadata": {},
   "outputs": [
    {
     "data": {
      "text/plain": [
       "['Corpus',\n",
       " '“',\n",
       " 'India',\n",
       " 'is',\n",
       " 'a',\n",
       " 'diverse',\n",
       " 'land',\n",
       " 'of',\n",
       " 'cultures',\n",
       " 'languages',\n",
       " 'and',\n",
       " 'traditions',\n",
       " 'It',\n",
       " 'is',\n",
       " 'known',\n",
       " 'for',\n",
       " 'its',\n",
       " 'rich',\n",
       " 'history',\n",
       " 'and',\n",
       " 'heritage',\n",
       " 'The',\n",
       " 'country',\n",
       " 'has',\n",
       " 'a',\n",
       " 'vast',\n",
       " 'landscape',\n",
       " 'with',\n",
       " 'mountains',\n",
       " 'rivers',\n",
       " 'and',\n",
       " 'deserts',\n",
       " 'The',\n",
       " 'people',\n",
       " 'of',\n",
       " 'India',\n",
       " 'are',\n",
       " 'friendly',\n",
       " 'and',\n",
       " 'hospitable',\n",
       " 'Indian',\n",
       " 'cuisine',\n",
       " 'is',\n",
       " 'famous',\n",
       " 'for',\n",
       " 'its',\n",
       " 'spices',\n",
       " 'and',\n",
       " 'flavors',\n",
       " 'The',\n",
       " 'country',\n",
       " 'has',\n",
       " 'a',\n",
       " 'thriving',\n",
       " 'film',\n",
       " 'industry',\n",
       " 'known',\n",
       " 'as',\n",
       " 'Bollywood',\n",
       " 'India',\n",
       " \"'s\",\n",
       " 'festivals',\n",
       " 'like',\n",
       " 'Diwali',\n",
       " 'and',\n",
       " 'Holi',\n",
       " 'are',\n",
       " 'celebrated',\n",
       " 'with',\n",
       " 'enthusiasm',\n",
       " 'India',\n",
       " \"'s\",\n",
       " 'contribution',\n",
       " 'to',\n",
       " 'science',\n",
       " 'technology',\n",
       " 'and',\n",
       " 'literature',\n",
       " 'is',\n",
       " 'significant',\n",
       " 'Overall',\n",
       " 'India',\n",
       " 'is',\n",
       " 'a',\n",
       " 'nation',\n",
       " 'of',\n",
       " 'beauty',\n",
       " 'and',\n",
       " 'diversity',\n",
       " '”']"
      ]
     },
     "execution_count": 37,
     "metadata": {},
     "output_type": "execute_result"
    }
   ],
   "source": [
    "import string\n",
    "p_t=[word for word in tokens if word not in string.punctuation]\n",
    "p_t\n"
   ]
  },
  {
   "cell_type": "code",
   "execution_count": 38,
   "id": "59553d56-992f-49e9-b236-93d727ad1143",
   "metadata": {},
   "outputs": [
    {
     "data": {
      "text/plain": [
       "['Corpus',\n",
       " '“',\n",
       " 'India',\n",
       " 'diverse',\n",
       " 'land',\n",
       " 'cultures',\n",
       " 'languages',\n",
       " 'traditions',\n",
       " 'It',\n",
       " 'known',\n",
       " 'rich',\n",
       " 'history',\n",
       " 'heritage',\n",
       " 'The',\n",
       " 'country',\n",
       " 'vast',\n",
       " 'landscape',\n",
       " 'mountains',\n",
       " 'rivers',\n",
       " 'deserts',\n",
       " 'The',\n",
       " 'people',\n",
       " 'India',\n",
       " 'friendly',\n",
       " 'hospitable',\n",
       " 'Indian',\n",
       " 'cuisine',\n",
       " 'famous',\n",
       " 'spices',\n",
       " 'flavors',\n",
       " 'The',\n",
       " 'country',\n",
       " 'thriving',\n",
       " 'film',\n",
       " 'industry',\n",
       " 'known',\n",
       " 'Bollywood',\n",
       " 'India',\n",
       " \"'s\",\n",
       " 'festivals',\n",
       " 'like',\n",
       " 'Diwali',\n",
       " 'Holi',\n",
       " 'celebrated',\n",
       " 'enthusiasm',\n",
       " 'India',\n",
       " \"'s\",\n",
       " 'contribution',\n",
       " 'science',\n",
       " 'technology',\n",
       " 'literature',\n",
       " 'significant',\n",
       " 'Overall',\n",
       " 'India',\n",
       " 'nation',\n",
       " 'beauty',\n",
       " 'diversity',\n",
       " '”']"
      ]
     },
     "execution_count": 38,
     "metadata": {},
     "output_type": "execute_result"
    }
   ],
   "source": [
    "from nltk.corpus import stopwords\n",
    "s_t=set(stopwords.words(\"english\"))\n",
    "stop_words=[word for word in p_t if word not in s_t]\n",
    "stop_words"
   ]
  },
  {
   "cell_type": "code",
   "execution_count": 12,
   "id": "85ae941b-2e6b-4ebe-bdc8-2d7624262b1c",
   "metadata": {},
   "outputs": [],
   "source": [
    "from nltk.stem import PorterStemmer\n",
    "stemmer=PorterStemmer()\n",
    "stems=[stemmer.stem(word) for word in stop_words]"
   ]
  },
  {
   "cell_type": "code",
   "execution_count": 39,
   "id": "e2293ff2-4a76-4275-9ad6-13f018fe83ef",
   "metadata": {},
   "outputs": [
    {
     "data": {
      "text/plain": [
       "['corpu',\n",
       " '“',\n",
       " 'india',\n",
       " 'divers',\n",
       " 'land',\n",
       " 'cultur',\n",
       " 'languag',\n",
       " 'tradit',\n",
       " 'it',\n",
       " 'known',\n",
       " 'rich',\n",
       " 'histori',\n",
       " 'heritag',\n",
       " 'the',\n",
       " 'countri',\n",
       " 'vast',\n",
       " 'landscap',\n",
       " 'mountain',\n",
       " 'river',\n",
       " 'desert',\n",
       " 'the',\n",
       " 'peopl',\n",
       " 'india',\n",
       " 'friendli',\n",
       " 'hospit',\n",
       " 'indian',\n",
       " 'cuisin',\n",
       " 'famou',\n",
       " 'spice',\n",
       " 'flavor',\n",
       " 'the',\n",
       " 'countri',\n",
       " 'thrive',\n",
       " 'film',\n",
       " 'industri',\n",
       " 'known',\n",
       " 'bollywood',\n",
       " 'india',\n",
       " \"'s\",\n",
       " 'festiv',\n",
       " 'like',\n",
       " 'diwali',\n",
       " 'holi',\n",
       " 'celebr',\n",
       " 'enthusiasm',\n",
       " 'india',\n",
       " \"'s\",\n",
       " 'contribut',\n",
       " 'scienc',\n",
       " 'technolog',\n",
       " 'literatur',\n",
       " 'signific',\n",
       " 'overal',\n",
       " 'india',\n",
       " 'nation',\n",
       " 'beauti',\n",
       " 'divers']"
      ]
     },
     "execution_count": 39,
     "metadata": {},
     "output_type": "execute_result"
    }
   ],
   "source": [
    "stems"
   ]
  },
  {
   "cell_type": "code",
   "execution_count": 40,
   "id": "93d881c0-afb3-4fea-801a-78b8ba6af922",
   "metadata": {},
   "outputs": [],
   "source": [
    "unigram=Counter()\n",
    "bigrams=Counter()"
   ]
  },
  {
   "cell_type": "code",
   "execution_count": 41,
   "id": "3b3d7578-a370-4658-b307-2de9f6a7b357",
   "metadata": {},
   "outputs": [],
   "source": [
    "unigram.update(stems)"
   ]
  },
  {
   "cell_type": "code",
   "execution_count": 42,
   "id": "a35f0f4c-5291-48c3-bc95-c959f6f6acc1",
   "metadata": {},
   "outputs": [
    {
     "data": {
      "text/plain": [
       "Counter({'india': 5,\n",
       "         'the': 3,\n",
       "         'divers': 2,\n",
       "         'known': 2,\n",
       "         'countri': 2,\n",
       "         \"'s\": 2,\n",
       "         'corpu': 1,\n",
       "         '“': 1,\n",
       "         'land': 1,\n",
       "         'cultur': 1,\n",
       "         'languag': 1,\n",
       "         'tradit': 1,\n",
       "         'it': 1,\n",
       "         'rich': 1,\n",
       "         'histori': 1,\n",
       "         'heritag': 1,\n",
       "         'vast': 1,\n",
       "         'landscap': 1,\n",
       "         'mountain': 1,\n",
       "         'river': 1,\n",
       "         'desert': 1,\n",
       "         'peopl': 1,\n",
       "         'friendli': 1,\n",
       "         'hospit': 1,\n",
       "         'indian': 1,\n",
       "         'cuisin': 1,\n",
       "         'famou': 1,\n",
       "         'spice': 1,\n",
       "         'flavor': 1,\n",
       "         'thrive': 1,\n",
       "         'film': 1,\n",
       "         'industri': 1,\n",
       "         'bollywood': 1,\n",
       "         'festiv': 1,\n",
       "         'like': 1,\n",
       "         'diwali': 1,\n",
       "         'holi': 1,\n",
       "         'celebr': 1,\n",
       "         'enthusiasm': 1,\n",
       "         'contribut': 1,\n",
       "         'scienc': 1,\n",
       "         'technolog': 1,\n",
       "         'literatur': 1,\n",
       "         'signific': 1,\n",
       "         'overal': 1,\n",
       "         'nation': 1,\n",
       "         'beauti': 1})"
      ]
     },
     "execution_count": 42,
     "metadata": {},
     "output_type": "execute_result"
    }
   ],
   "source": [
    "unigram"
   ]
  },
  {
   "cell_type": "code",
   "execution_count": 44,
   "id": "a1a1bdb1-f21b-49f6-a47c-fa7dda849153",
   "metadata": {},
   "outputs": [
    {
     "data": {
      "text/plain": [
       "Counter({('the', 'countri'): 2,\n",
       "         ('india', \"'s\"): 2,\n",
       "         ('corpu', '“'): 1,\n",
       "         ('“', 'india'): 1,\n",
       "         ('india', 'divers'): 1,\n",
       "         ('divers', 'land'): 1,\n",
       "         ('land', 'cultur'): 1,\n",
       "         ('cultur', 'languag'): 1,\n",
       "         ('languag', 'tradit'): 1,\n",
       "         ('tradit', 'it'): 1,\n",
       "         ('it', 'known'): 1,\n",
       "         ('known', 'rich'): 1,\n",
       "         ('rich', 'histori'): 1,\n",
       "         ('histori', 'heritag'): 1,\n",
       "         ('heritag', 'the'): 1,\n",
       "         ('countri', 'vast'): 1,\n",
       "         ('vast', 'landscap'): 1,\n",
       "         ('landscap', 'mountain'): 1,\n",
       "         ('mountain', 'river'): 1,\n",
       "         ('river', 'desert'): 1,\n",
       "         ('desert', 'the'): 1,\n",
       "         ('the', 'peopl'): 1,\n",
       "         ('peopl', 'india'): 1,\n",
       "         ('india', 'friendli'): 1,\n",
       "         ('friendli', 'hospit'): 1,\n",
       "         ('hospit', 'indian'): 1,\n",
       "         ('indian', 'cuisin'): 1,\n",
       "         ('cuisin', 'famou'): 1,\n",
       "         ('famou', 'spice'): 1,\n",
       "         ('spice', 'flavor'): 1,\n",
       "         ('flavor', 'the'): 1,\n",
       "         ('countri', 'thrive'): 1,\n",
       "         ('thrive', 'film'): 1,\n",
       "         ('film', 'industri'): 1,\n",
       "         ('industri', 'known'): 1,\n",
       "         ('known', 'bollywood'): 1,\n",
       "         ('bollywood', 'india'): 1,\n",
       "         (\"'s\", 'festiv'): 1,\n",
       "         ('festiv', 'like'): 1,\n",
       "         ('like', 'diwali'): 1,\n",
       "         ('diwali', 'holi'): 1,\n",
       "         ('holi', 'celebr'): 1,\n",
       "         ('celebr', 'enthusiasm'): 1,\n",
       "         ('enthusiasm', 'india'): 1,\n",
       "         (\"'s\", 'contribut'): 1,\n",
       "         ('contribut', 'scienc'): 1,\n",
       "         ('scienc', 'technolog'): 1,\n",
       "         ('technolog', 'literatur'): 1,\n",
       "         ('literatur', 'signific'): 1,\n",
       "         ('signific', 'overal'): 1,\n",
       "         ('overal', 'india'): 1,\n",
       "         ('india', 'nation'): 1,\n",
       "         ('nation', 'beauti'): 1,\n",
       "         ('beauti', 'divers'): 1})"
      ]
     },
     "execution_count": 44,
     "metadata": {},
     "output_type": "execute_result"
    }
   ],
   "source": [
    "for i in range(len(stems)-1):\n",
    "    bigram=(stems[i],stems[i+1])\n",
    "    bigrams[bigram]+=1\n",
    "bigrams"
   ]
  },
  {
   "cell_type": "code",
   "execution_count": 58,
   "id": "5aca05ee-f226-4a15-bdeb-d5fa49af13ff",
   "metadata": {},
   "outputs": [
    {
     "data": {
      "text/plain": [
       "57"
      ]
     },
     "execution_count": 58,
     "metadata": {},
     "output_type": "execute_result"
    }
   ],
   "source": [
    "w1='film'\n",
    "w2='industri'\n",
    "N=sum(unigram.values())\n",
    "N"
   ]
  },
  {
   "cell_type": "code",
   "execution_count": 59,
   "id": "fba240d1-c90d-43ad-b153-e5cebcd016ea",
   "metadata": {},
   "outputs": [],
   "source": [
    "count_w1=unigram[w1]\n",
    "count_w2=unigram[w2]"
   ]
  },
  {
   "cell_type": "code",
   "execution_count": 60,
   "id": "5d5bee21-ad11-43fb-a01c-92839b449540",
   "metadata": {},
   "outputs": [
    {
     "data": {
      "text/plain": [
       "1"
      ]
     },
     "execution_count": 60,
     "metadata": {},
     "output_type": "execute_result"
    }
   ],
   "source": [
    "count_w1"
   ]
  },
  {
   "cell_type": "code",
   "execution_count": 61,
   "id": "407ce415-8172-4bf7-b5fc-c5985fdf8038",
   "metadata": {},
   "outputs": [
    {
     "data": {
      "text/plain": [
       "1"
      ]
     },
     "execution_count": 61,
     "metadata": {},
     "output_type": "execute_result"
    }
   ],
   "source": [
    "count_w2"
   ]
  },
  {
   "cell_type": "code",
   "execution_count": 68,
   "id": "37231c19-bb7a-49a6-9f97-002610ae3c19",
   "metadata": {},
   "outputs": [],
   "source": [
    "expected=(count_w1*count_w2)/N**2\n",
    "variance=expected"
   ]
  },
  {
   "cell_type": "code",
   "execution_count": 69,
   "id": "5748add4-e1fd-42ed-971b-2b18a2e7b2ce",
   "metadata": {},
   "outputs": [],
   "source": [
    "observed=bigrams[(w1,w2)]/N"
   ]
  },
  {
   "cell_type": "code",
   "execution_count": 70,
   "id": "8ad6f9b9-f8e7-40ea-84fc-485fc0861365",
   "metadata": {},
   "outputs": [],
   "source": [
    "t_test=(observed-expected)/math.sqrt(variance/N)"
   ]
  },
  {
   "cell_type": "code",
   "execution_count": 71,
   "id": "7367a110-9a03-4d35-98e7-5c5cd3e2ecd2",
   "metadata": {},
   "outputs": [
    {
     "data": {
      "text/plain": [
       "7.417381199564246"
      ]
     },
     "execution_count": 71,
     "metadata": {},
     "output_type": "execute_result"
    }
   ],
   "source": [
    "t_test\n"
   ]
  },
  {
   "cell_type": "code",
   "execution_count": 72,
   "id": "6f93f8fc-0ffe-4847-89c6-5a35acd96fbb",
   "metadata": {},
   "outputs": [
    {
     "name": "stdout",
     "output_type": "stream",
     "text": [
      "colloc\n"
     ]
    }
   ],
   "source": [
    "if t_test>=2:\n",
    "    print(\"colloc\")\n",
    "else:\n",
    "    print(\"no colloc\")"
   ]
  },
  {
   "cell_type": "code",
   "execution_count": 77,
   "id": "a21e20cd-d0f2-4cd2-b3c9-a53d61e0be4f",
   "metadata": {},
   "outputs": [],
   "source": [
    "c11=c12=c21=c22=0\n",
    "for unit in bigrams:\n",
    "    if unit[0]==w1 and unit[1]==w2:\n",
    "        c11+=1\n",
    "    if unit[0]==w1 and unit[1]!=w2:\n",
    "        c12+=1\n",
    "    \n",
    "    if unit[0]!=w1 and unit[1]==w2:\n",
    "        c21+=1\n",
    "    if unit[0]!=w1 and unit[1]!=w2:\n",
    "        c22+=1\n",
    "        "
   ]
  },
  {
   "cell_type": "code",
   "execution_count": 78,
   "id": "2ecf481c-4a1b-47df-9810-07e4bbc27788",
   "metadata": {},
   "outputs": [],
   "source": [
    "t13=c11+c12\n",
    "t23=c21+c22\n",
    "t31=c11+c21\n",
    "t32=c12+c22\n",
    "total=t31+t32"
   ]
  },
  {
   "cell_type": "code",
   "execution_count": 79,
   "id": "77b6d77d-8568-4be1-ac88-8d112df69f59",
   "metadata": {},
   "outputs": [],
   "source": [
    "e11=(t13*t31)/total\n",
    "e12=(t13*t32)/total\n",
    "e21=(t23*t31)/total\n",
    "e22=(t23*t32)/total"
   ]
  },
  {
   "cell_type": "code",
   "execution_count": 80,
   "id": "47dbc8d4-b470-499c-bcd3-d43cd4efbd42",
   "metadata": {},
   "outputs": [
    {
     "data": {
      "text/plain": [
       "54.00000000000001"
      ]
     },
     "execution_count": 80,
     "metadata": {},
     "output_type": "execute_result"
    }
   ],
   "source": [
    "observed=[c11,c12,c21,c22]\n",
    "expected=[e11,e12,e21,e22]\n",
    "chi_2=0\n",
    "for i in range(4):\n",
    "    chi_2+=(observed[i]-expected[i])**2/expected[i]\n",
    "chi_2\n"
   ]
  },
  {
   "cell_type": "code",
   "execution_count": 84,
   "id": "c6517cfb-7614-43ac-8bde-21a3ba189ea9",
   "metadata": {},
   "outputs": [
    {
     "name": "stdout",
     "output_type": "stream",
     "text": [
      "yes\n"
     ]
    }
   ],
   "source": [
    "if chi_2>=3:\n",
    "    print(\"yes\")\n",
    "else:\n",
    "    print(\"no\")"
   ]
  },
  {
   "cell_type": "code",
   "execution_count": null,
   "id": "ae9bc770-344c-4cbd-bdfa-2b11caf12782",
   "metadata": {},
   "outputs": [],
   "source": []
  }
 ],
 "metadata": {
  "kernelspec": {
   "display_name": "Python 3 (ipykernel)",
   "language": "python",
   "name": "python3"
  },
  "language_info": {
   "codemirror_mode": {
    "name": "ipython",
    "version": 3
   },
   "file_extension": ".py",
   "mimetype": "text/x-python",
   "name": "python",
   "nbconvert_exporter": "python",
   "pygments_lexer": "ipython3",
   "version": "3.12.7"
  }
 },
 "nbformat": 4,
 "nbformat_minor": 5
}

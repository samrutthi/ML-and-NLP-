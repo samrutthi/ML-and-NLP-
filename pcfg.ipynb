{
 "cells": [
  {
   "cell_type": "code",
   "execution_count": 44,
   "id": "cafab0f6-73c9-45f5-96c1-1fbc319f1dd5",
   "metadata": {},
   "outputs": [],
   "source": [
    "from nltk import PCFG,ViterbiParser,InsideChartParser"
   ]
  },
  {
   "cell_type": "code",
   "execution_count": 45,
   "id": "4e480ea3-3b85-4646-8672-20ee99d9ef91",
   "metadata": {},
   "outputs": [],
   "source": [
    "grammar=PCFG.fromstring(\"\"\"\n",
    "S -> NN VP  [0.50] | VP NP  [0.50]\n",
    "NP -> NN PP [0.70] | PP NN   [0.30]\n",
    "VP -> VB NP [0.30] | VP NP   [0.20] | VB NN [0.35] | VB PP   [0.15] \n",
    "PP ->  P VP  [0.50] | P NN   [0.50]\n",
    "NN -> 'students'   [0.10] | 'football'   [0.15] | 'friends'  [0.20] |'children'  [0.15] | 'cricket'   [0.15] | 'painting'   [0.25] \n",
    "VB -> 'play'  [0.20] | 'enjoy'   [0.35] | 'watch'   [0.20] | 'like'   [0.15] | 'listen'   [0.10] \n",
    "P -> 'with'  [0.70] | 'without'   [0.30]\n",
    "\"\"\")"
   ]
  },
  {
   "cell_type": "code",
   "execution_count": 46,
   "id": "bd7fe04c-d5ff-4346-bf95-c5c071976442",
   "metadata": {},
   "outputs": [],
   "source": [
    "parser1=ViterbiParser(grammar)\n",
    "parser2=InsideChartParser(grammar)"
   ]
  },
  {
   "cell_type": "code",
   "execution_count": 47,
   "id": "aeb7e865-fc50-48a8-b579-00b34772794b",
   "metadata": {},
   "outputs": [],
   "source": [
    "sentence=\"students play football with friends\"\n",
    "tokens=sentence.split()"
   ]
  },
  {
   "cell_type": "code",
   "execution_count": 48,
   "id": "4cb375c1-4d92-4cba-b144-617ca03ce5d8",
   "metadata": {},
   "outputs": [
    {
     "data": {
      "text/plain": [
       "['students', 'play', 'football', 'with', 'friends']"
      ]
     },
     "execution_count": 48,
     "metadata": {},
     "output_type": "execute_result"
    }
   ],
   "source": [
    "tokens"
   ]
  },
  {
   "cell_type": "code",
   "execution_count": 49,
   "id": "de30662e-894c-4c11-b9ae-b0172e14b6fc",
   "metadata": {},
   "outputs": [
    {
     "name": "stdout",
     "output_type": "stream",
     "text": [
      "(S\n",
      "  (NN students)\n",
      "  (VP\n",
      "    (VB play)\n",
      "    (NP (NN football) (PP (P with) (NN friends))))) (p=2.205e-05)\n"
     ]
    }
   ],
   "source": [
    "for tree in parser1.parse(tokens):\n",
    "    print(tree)"
   ]
  },
  {
   "cell_type": "code",
   "execution_count": 50,
   "id": "715e7f2d-3fec-4fa8-9991-b3f67a19d448",
   "metadata": {},
   "outputs": [
    {
     "name": "stdout",
     "output_type": "stream",
     "text": [
      "(S\n",
      "  (NN students)\n",
      "  (VP\n",
      "    (VB play)\n",
      "    (NP (NN football) (PP (P with) (NN friends))))) (p=2.205e-05)\n"
     ]
    }
   ],
   "source": [
    "for tree in parser2.parse(tokens):\n",
    "    print(tree)"
   ]
  },
  {
   "cell_type": "code",
   "execution_count": 51,
   "id": "2acc9839-703f-4265-bb38-c209ccd01ade",
   "metadata": {},
   "outputs": [],
   "source": [
    "import numpy as np\n",
    "def cyk_algo(grammar,sentence):\n",
    "    n=len(sentence)\n",
    "    table=np.empty((n,n),dtype=object)\n",
    "    for i,word in enumerate(sentence):\n",
    "        table[i,i]=[(p.lhs(),p.prob()) for p in grammar.productions() if len(p.rhs())==1 and p.rhs()[0]==word]\n",
    "    for span in range(2,n+1):\n",
    "        for  i in range(n-span+1):\n",
    "            table[i,i+span-1]=[(p.lhs(),lp*rp*p.prob()) for k in range(i,i+span-1)\n",
    "                               for l,lp in (table[i,k] or []) for r,rp in (table[k+1,i+span-1] or [])                               \n",
    "                               for p in grammar.productions() if len(p.rhs())==2 and (l,r)==p.rhs()]\n",
    "    return table\n",
    "        "
   ]
  },
  {
   "cell_type": "code",
   "execution_count": 55,
   "id": "3429067b-f833-4d47-b0f6-69c52a81c8f7",
   "metadata": {},
   "outputs": [
    {
     "name": "stdout",
     "output_type": "stream",
     "text": [
      "garmmar correct:2.205e-05\n"
     ]
    }
   ],
   "source": [
    "def check_sentence(sentence,grammar):\n",
    "    words,result=sentence.split(),cyk_algo(grammar,sentence.split()) [0,len(sentence.split())-1] or []\n",
    "    prob=max((p for nt,p in result if str(nt)==\"S\"),default=None)\n",
    "    print(f\"garmmar correct:{prob}\" if prob else \"grammar error\")\n",
    "    return prob\n",
    "\n",
    "grammar=PCFG.fromstring(\"\"\"\n",
    "S -> NN VP  [0.50] | VP NP  [0.50]\n",
    "NP -> NN PP [0.70] | PP NN   [0.30]\n",
    "VP -> VB NP [0.30] | VP NP   [0.20] | VB NN [0.35] | VB PP   [0.15] \n",
    "PP ->  P VP  [0.50] | P NN   [0.50]\n",
    "NN -> 'students'   [0.10] | 'football'   [0.15] | 'friends'  [0.20] |'children'  [0.15] | 'cricket'   [0.15] | 'painting'   [0.25] \n",
    "VB -> 'play'  [0.20] | 'enjoy'   [0.35] | 'watch'   [0.20] | 'like'   [0.15] | 'listen'   [0.10] \n",
    "P -> 'with'  [0.70] | 'without'   [0.30]\n",
    "\"\"\")\n",
    "if grammar:\n",
    "    final_prob=check_sentence(\"students play football with friends\",grammar)"
   ]
  },
  {
   "cell_type": "code",
   "execution_count": null,
   "id": "28b56d91-bedd-4421-b961-84810f388b1b",
   "metadata": {},
   "outputs": [],
   "source": []
  },
  {
   "cell_type": "code",
   "execution_count": null,
   "id": "1f965bb7-4092-4611-8e79-3e439cb3aa7e",
   "metadata": {},
   "outputs": [],
   "source": []
  }
 ],
 "metadata": {
  "kernelspec": {
   "display_name": "Python 3 (ipykernel)",
   "language": "python",
   "name": "python3"
  },
  "language_info": {
   "codemirror_mode": {
    "name": "ipython",
    "version": 3
   },
   "file_extension": ".py",
   "mimetype": "text/x-python",
   "name": "python",
   "nbconvert_exporter": "python",
   "pygments_lexer": "ipython3",
   "version": "3.12.7"
  }
 },
 "nbformat": 4,
 "nbformat_minor": 5
}

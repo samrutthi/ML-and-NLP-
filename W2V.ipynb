{
 "cells": [
  {
   "cell_type": "code",
   "execution_count": 2,
   "id": "f44bb85c-8b11-4190-bfc0-b6af8fd2a129",
   "metadata": {},
   "outputs": [
    {
     "name": "stdout",
     "output_type": "stream",
     "text": [
      "Requirement already satisfied: gensim in c:\\users\\samrutthi\\anaconda_envs\\myenv\\lib\\site-packages (4.3.3)\n",
      "Requirement already satisfied: numpy<2.0,>=1.18.5 in c:\\users\\samrutthi\\anaconda_envs\\myenv\\lib\\site-packages (from gensim) (1.26.4)\n",
      "Requirement already satisfied: scipy<1.14.0,>=1.7.0 in c:\\users\\samrutthi\\anaconda_envs\\myenv\\lib\\site-packages (from gensim) (1.13.1)\n",
      "Requirement already satisfied: smart-open>=1.8.1 in c:\\users\\samrutthi\\anaconda_envs\\myenv\\lib\\site-packages (from gensim) (7.1.0)\n",
      "Requirement already satisfied: wrapt in c:\\users\\samrutthi\\anaconda_envs\\myenv\\lib\\site-packages (from smart-open>=1.8.1->gensim) (1.16.0)\n",
      "Note: you may need to restart the kernel to use updated packages.\n"
     ]
    }
   ],
   "source": [
    "pip install gensim"
   ]
  },
  {
   "cell_type": "code",
   "execution_count": 6,
   "id": "a39cc9c7-0dba-452a-ab15-a1ef7c315eb6",
   "metadata": {},
   "outputs": [],
   "source": [
    "from gensim.models import Word2Vec\n",
    "import nltk\n",
    "from nltk import word_tokenize\n",
    "import numpy as np\n",
    "import pandas as pd"
   ]
  },
  {
   "cell_type": "code",
   "execution_count": 7,
   "id": "6e0cde46-de6c-48c0-87f0-4dbc76314c0c",
   "metadata": {},
   "outputs": [],
   "source": [
    "df=pd.read_csv(\"Q2TrueFakeNewsDataset.csv\")"
   ]
  },
  {
   "cell_type": "code",
   "execution_count": 14,
   "id": "a32dcbdf-da89-4e15-b491-cb0fbff2e8c2",
   "metadata": {},
   "outputs": [],
   "source": [
    "sentence=df[\"TEXT\"].to_list()"
   ]
  },
  {
   "cell_type": "code",
   "execution_count": 13,
   "id": "64613aee-5707-4782-98d1-217cebfeef85",
   "metadata": {},
   "outputs": [
    {
     "name": "stderr",
     "output_type": "stream",
     "text": [
      "[nltk_data] Downloading package punkt_tab to\n",
      "[nltk_data]     C:\\Users\\samrutthi\\AppData\\Roaming\\nltk_data...\n",
      "[nltk_data]   Package punkt_tab is already up-to-date!\n"
     ]
    }
   ],
   "source": [
    "nltk.download('punkt_tab')\n",
    "tokenize_sent=[word_tokenize(sent) for sent in sentence]"
   ]
  },
  {
   "cell_type": "code",
   "execution_count": 11,
   "id": "dd421c25-ffa4-47f6-b31c-adca60e41a63",
   "metadata": {},
   "outputs": [],
   "source": [
    "model=Word2Vec(\n",
    "    sentences=tokenize_sent,\n",
    "    vector_size=100,\n",
    "    min_count=1,\n",
    "    window=5\n",
    ")"
   ]
  },
  {
   "cell_type": "code",
   "execution_count": 12,
   "id": "0c52e211-8055-44da-adb2-1d91060be224",
   "metadata": {},
   "outputs": [
    {
     "data": {
      "text/plain": [
       "array([-1.9028533 ,  0.86096454, -0.430988  ,  1.3188804 ,  0.32066754,\n",
       "        2.234841  ], dtype=float32)"
      ]
     },
     "execution_count": 12,
     "metadata": {},
     "output_type": "execute_result"
    }
   ],
   "source": [
    "model.wv[\"Thursday\"][:6]\n"
   ]
  },
  {
   "cell_type": "code",
   "execution_count": 15,
   "id": "a947f554-efd5-42f1-95d5-36282cafbab8",
   "metadata": {},
   "outputs": [
    {
     "data": {
      "text/plain": [
       "[('Wednesday', 0.9756700396537781),\n",
       " ('Tuesday', 0.9732957482337952),\n",
       " ('Friday', 0.9641920328140259),\n",
       " ('Monday', 0.9620720148086548),\n",
       " ('Sunday', 0.8603903651237488)]"
      ]
     },
     "execution_count": 15,
     "metadata": {},
     "output_type": "execute_result"
    }
   ],
   "source": [
    "sim=model.wv.most_similar(\"Thursday\",topn=5)\n",
    "sim"
   ]
  },
  {
   "cell_type": "code",
   "execution_count": null,
   "id": "020cf983-b8b3-4cd3-b60d-cf65017f035c",
   "metadata": {},
   "outputs": [],
   "source": []
  }
 ],
 "metadata": {
  "kernelspec": {
   "display_name": "Python 3 (ipykernel)",
   "language": "python",
   "name": "python3"
  },
  "language_info": {
   "codemirror_mode": {
    "name": "ipython",
    "version": 3
   },
   "file_extension": ".py",
   "mimetype": "text/x-python",
   "name": "python",
   "nbconvert_exporter": "python",
   "pygments_lexer": "ipython3",
   "version": "3.12.7"
  }
 },
 "nbformat": 4,
 "nbformat_minor": 5
}
